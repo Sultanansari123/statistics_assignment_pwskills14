{
 "cells": [
  {
   "cell_type": "markdown",
   "id": "8b6c8c83-8275-47ac-a8af-6e8b3f76a09f",
   "metadata": {},
   "source": [
    "# Ans1-"
   ]
  },
  {
   "cell_type": "code",
   "execution_count": 1,
   "id": "21638f3e-d1eb-4d6e-bac2-cdcbfcd16b07",
   "metadata": {},
   "outputs": [
    {
     "name": "stdout",
     "output_type": "stream",
     "text": [
      "F-value: 4.0\n",
      "p-value: 0.896\n"
     ]
    }
   ],
   "source": [
    "import numpy as np\n",
    "from scipy.stats import f\n",
    "\n",
    "def calculate_f_value(data1, data2):\n",
    "    \"\"\"\n",
    "    Calculate the F-value and p-value for a variance ratio test.\n",
    "\n",
    "    Parameters:\n",
    "    - data1: First array of data\n",
    "    - data2: Second array of data\n",
    "\n",
    "    Returns:\n",
    "    - f_value: The calculated F-value\n",
    "    - p_value: The corresponding p-value\n",
    "    \"\"\"\n",
    "\n",
    "    # Calculate the sample variances\n",
    "    var1 = np.var(data1, ddof=1)\n",
    "    var2 = np.var(data2, ddof=1)\n",
    "\n",
    "    # Ensure that var1 is the larger variance\n",
    "    if var1 < var2:\n",
    "        var1, var2 = var2, var1\n",
    "        data1, data2 = data2, data1\n",
    "\n",
    "    # Calculate the degrees of freedom\n",
    "    df1 = len(data1) - 1\n",
    "    df2 = len(data2) - 1\n",
    "\n",
    "    # Calculate the F-value\n",
    "    f_value = var1 / var2\n",
    "\n",
    "    # Calculate the p-value\n",
    "    p_value = f.cdf(f_value, df1, df2)\n",
    "\n",
    "    return f_value, p_value\n",
    "\n",
    "# Example usage:\n",
    "data_array1 = np.array([1, 2, 3, 4, 5])\n",
    "data_array2 = np.array([2, 4, 6, 8, 10])\n",
    "\n",
    "f_value, p_value = calculate_f_value(data_array1, data_array2)\n",
    "\n",
    "print(\"F-value:\", f_value)\n",
    "print(\"p-value:\", p_value)\n"
   ]
  },
  {
   "cell_type": "markdown",
   "id": "e4b3b688-16ce-480b-b031-bb2f797597bd",
   "metadata": {},
   "source": [
    "# Ans2-"
   ]
  },
  {
   "cell_type": "code",
   "execution_count": 2,
   "id": "e39e9371-5cba-42cd-8a54-3b55523940be",
   "metadata": {},
   "outputs": [
    {
     "name": "stdout",
     "output_type": "stream",
     "text": [
      "Critical F-value: 4.825621493405406\n"
     ]
    }
   ],
   "source": [
    "from scipy.stats import f\n",
    "\n",
    "def critical_f_value(alpha, df_num, df_den):\n",
    "    \"\"\"\n",
    "    Calculate the critical F-value for a two-tailed test given a significance level\n",
    "    and degrees of freedom for the numerator and denominator.\n",
    "\n",
    "    Parameters:\n",
    "    - alpha: Significance level (e.g., 0.05)\n",
    "    - df_num: Degrees of freedom for the numerator\n",
    "    - df_den: Degrees of freedom for the denominator\n",
    "\n",
    "    Returns:\n",
    "    - critical_f: Critical F-value\n",
    "    \"\"\"\n",
    "\n",
    "    # Calculate the critical F-value for a two-tailed test\n",
    "    critical_f = f.ppf(1 - alpha / 2, df_num, df_den)\n",
    "\n",
    "    return critical_f\n",
    "\n",
    "# Example usage:\n",
    "alpha = 0.05\n",
    "df_num_example = 3\n",
    "df_den_example = 10\n",
    "\n",
    "critical_f = critical_f_value(alpha, df_num_example, df_den_example)\n",
    "\n",
    "print(\"Critical F-value:\", critical_f)\n"
   ]
  },
  {
   "cell_type": "markdown",
   "id": "97ee43e3-7bac-4c8f-8736-86f20fc6da3d",
   "metadata": {},
   "source": [
    "# Ans3-"
   ]
  },
  {
   "cell_type": "code",
   "execution_count": 3,
   "id": "3451430f-029b-4638-8df6-b1909205ce5c",
   "metadata": {},
   "outputs": [
    {
     "name": "stdout",
     "output_type": "stream",
     "text": [
      "F-Statistic: 0.6667\n",
      "Critical F-Value: 3.4737\n",
      "Result: Fail to reject H0\n"
     ]
    }
   ],
   "source": [
    "from scipy.stats import f\n",
    "\n",
    "def f_test(variance1, variance2, sample_size1, sample_size2, alpha):\n",
    "    # Calculate the F-statistic\n",
    "    f_statistic = variance1 / variance2\n",
    "\n",
    "    # Degrees of freedom\n",
    "    df_num = sample_size1 - 1\n",
    "    df_den = sample_size2 - 1\n",
    "\n",
    "    # Calculate the critical F-value for a two-tailed test\n",
    "    critical_f = f.ppf(1 - alpha / 2, df_num, df_den)\n",
    "\n",
    "    # Compare with critical F-value\n",
    "    if f_statistic > critical_f or f_statistic < 1 / critical_f:\n",
    "        # Reject the null hypothesis\n",
    "        result = \"Reject H0\"\n",
    "    else:\n",
    "        # Fail to reject the null hypothesis\n",
    "        result = \"Fail to reject H0\"\n",
    "\n",
    "    return f_statistic, critical_f, result\n",
    "\n",
    "# Given data\n",
    "variance1 = 10\n",
    "variance2 = 15\n",
    "sample_size1 = 12\n",
    "sample_size2 = 12\n",
    "alpha = 0.05\n",
    "\n",
    "# Perform F-test\n",
    "f_statistic, critical_f, result = f_test(variance1, variance2, sample_size1, sample_size2, alpha)\n",
    "\n",
    "# Display results\n",
    "print(f\"F-Statistic: {f_statistic:.4f}\")\n",
    "print(f\"Critical F-Value: {critical_f:.4f}\")\n",
    "print(f\"Result: {result}\")\n"
   ]
  },
  {
   "cell_type": "markdown",
   "id": "fce2d3ae-bba3-4627-8915-c8bbe36e443b",
   "metadata": {},
   "source": [
    "# Ans4-"
   ]
  },
  {
   "cell_type": "code",
   "execution_count": 4,
   "id": "c9d8f407-14fe-4fe6-b054-761c79f408d7",
   "metadata": {},
   "outputs": [
    {
     "name": "stdout",
     "output_type": "stream",
     "text": [
      "F-Statistic: 0.6667\n",
      "Critical F-Value: 3.4737\n",
      "Result: Fail to reject H0\n"
     ]
    }
   ],
   "source": [
    "from scipy.stats import f\n",
    "\n",
    "def f_test(variance1, variance2, sample_size1, sample_size2, alpha):\n",
    "    # Calculate the F-statistic\n",
    "    f_statistic = variance1 / variance2\n",
    "\n",
    "    # Degrees of freedom\n",
    "    df_num = sample_size1 - 1\n",
    "    df_den = sample_size2 - 1\n",
    "\n",
    "    # Calculate the critical F-value for a two-tailed test\n",
    "    critical_f = f.ppf(1 - alpha / 2, df_num, df_den)\n",
    "\n",
    "    # Compare with critical F-value\n",
    "    if f_statistic > critical_f or f_statistic < 1 / critical_f:\n",
    "        # Reject the null hypothesis\n",
    "        result = \"Reject H0\"\n",
    "    else:\n",
    "        # Fail to reject the null hypothesis\n",
    "        result = \"Fail to reject H0\"\n",
    "\n",
    "    return f_statistic, critical_f, result\n",
    "\n",
    "# Given data\n",
    "variance1 = 10\n",
    "variance2 = 15\n",
    "sample_size1 = 12\n",
    "sample_size2 = 12\n",
    "alpha = 0.05\n",
    "\n",
    "# Perform F-test\n",
    "f_statistic, critical_f, result = f_test(variance1, variance2, sample_size1, sample_size2, alpha)\n",
    "\n",
    "# Display results\n",
    "print(f\"F-Statistic: {f_statistic:.4f}\")\n",
    "print(f\"Critical F-Value: {critical_f:.4f}\")\n",
    "print(f\"Result: {result}\")\n"
   ]
  },
  {
   "cell_type": "markdown",
   "id": "428d4b93-a291-4442-a50e-15cfbfa43d03",
   "metadata": {},
   "source": [
    "# Ans5-"
   ]
  },
  {
   "cell_type": "code",
   "execution_count": 5,
   "id": "4de81887-a5a4-4222-8914-098a520ce01c",
   "metadata": {},
   "outputs": [
    {
     "name": "stdout",
     "output_type": "stream",
     "text": [
      "F-Statistic: 1.2000\n",
      "Critical F-Value: 24939.5653\n",
      "Result: Fail to reject H0\n"
     ]
    }
   ],
   "source": [
    "from scipy.stats import f\n",
    "\n",
    "def f_test(sample_variance, claimed_variance, sample_size, alpha):\n",
    "    # Calculate the F-statistic\n",
    "    f_statistic = sample_variance / claimed_variance\n",
    "\n",
    "    # Degrees of freedom\n",
    "    df_num = sample_size - 1\n",
    "    df_den = 1  # Degrees of freedom for the claimed variance (population variance)\n",
    "\n",
    "    # Calculate the critical F-value for a two-tailed test\n",
    "    critical_f = f.ppf(1 - alpha / 2, df_num, df_den)\n",
    "\n",
    "    # Compare with critical F-value\n",
    "    if f_statistic > critical_f or f_statistic < 1 / critical_f:\n",
    "        # Reject the null hypothesis\n",
    "        result = \"Reject H0\"\n",
    "    else:\n",
    "        # Fail to reject the null hypothesis\n",
    "        result = \"Fail to reject H0\"\n",
    "\n",
    "    return f_statistic, critical_f, result\n",
    "\n",
    "# Given data\n",
    "sample_variance = 0.006\n",
    "claimed_variance = 0.005\n",
    "sample_size = 25\n",
    "alpha = 0.01\n",
    "\n",
    "# Perform F-test\n",
    "f_statistic, critical_f, result = f_test(sample_variance, claimed_variance, sample_size, alpha)\n",
    "\n",
    "# Display results\n",
    "print(f\"F-Statistic: {f_statistic:.4f}\")\n",
    "print(f\"Critical F-Value: {critical_f:.4f}\")\n",
    "print(f\"Result: {result}\")\n"
   ]
  },
  {
   "cell_type": "markdown",
   "id": "a5ea493c-76ad-4e49-ab83-f9d327a0b6f0",
   "metadata": {},
   "source": [
    "# Ans6-"
   ]
  },
  {
   "cell_type": "code",
   "execution_count": 6,
   "id": "f1c52216-2333-4940-ba24-957679d9ec8b",
   "metadata": {},
   "outputs": [
    {
     "name": "stdout",
     "output_type": "stream",
     "text": [
      "Mean: 1.25\n",
      "Variance: 1.9097222222222223\n"
     ]
    }
   ],
   "source": [
    "def calculate_f_distribution_mean_and_variance(df_num, df_den):\n",
    "    \"\"\"\n",
    "    Calculate the mean and variance of an F-distribution.\n",
    "\n",
    "    Parameters:\n",
    "    - df_num: Degrees of freedom for the numerator\n",
    "    - df_den: Degrees of freedom for the denominator\n",
    "\n",
    "    Returns:\n",
    "    - mean_and_variance: Tuple containing the mean and variance of the F-distribution\n",
    "    \"\"\"\n",
    "\n",
    "    # Mean of the F-distribution\n",
    "    mean = df_den / (df_den - 2)\n",
    "\n",
    "    # Variance of the F-distribution\n",
    "    variance = (2 * (df_den**2) * (df_num + df_den - 2)) / (df_num * (df_den - 2)**2 * (df_den - 4))\n",
    "\n",
    "    return mean, variance\n",
    "\n",
    "# Example usage:\n",
    "df_num_example = 3\n",
    "df_den_example = 10\n",
    "\n",
    "mean_and_variance = calculate_f_distribution_mean_and_variance(df_num_example, df_den_example)\n",
    "\n",
    "print(\"Mean:\", mean_and_variance[0])\n",
    "print(\"Variance:\", mean_and_variance[1])\n"
   ]
  },
  {
   "cell_type": "markdown",
   "id": "05b1ef14-9398-41f2-b496-ddffc197cc2a",
   "metadata": {},
   "source": [
    "# Ans7-"
   ]
  },
  {
   "cell_type": "code",
   "execution_count": 7,
   "id": "545307c3-7231-41fd-b041-790d57a11bd1",
   "metadata": {},
   "outputs": [
    {
     "name": "stdout",
     "output_type": "stream",
     "text": [
      "F-Statistic: 1.2500\n",
      "Critical F-Value: 2.6458\n",
      "Result: Fail to reject H0\n"
     ]
    }
   ],
   "source": [
    "from scipy.stats import f\n",
    "\n",
    "def f_test(sample_variance1, sample_variance2, sample_size1, sample_size2, alpha):\n",
    "    # Calculate the F-statistic\n",
    "    f_statistic = sample_variance1 / sample_variance2\n",
    "\n",
    "    # Degrees of freedom\n",
    "    df_num = sample_size1 - 1\n",
    "    df_den = sample_size2 - 1\n",
    "\n",
    "    # Calculate the critical F-value for a two-tailed test\n",
    "    critical_f = f.ppf(1 - alpha / 2, df_num, df_den)\n",
    "\n",
    "    # Compare with critical F-value\n",
    "    if f_statistic > critical_f or f_statistic < 1 / critical_f:\n",
    "        # Reject the null hypothesis\n",
    "        result = \"Reject H0\"\n",
    "    else:\n",
    "        # Fail to reject the null hypothesis\n",
    "        result = \"Fail to reject H0\"\n",
    "\n",
    "    return f_statistic, critical_f, result\n",
    "\n",
    "# Given data\n",
    "sample_variance1 = 25\n",
    "sample_variance2 = 20\n",
    "sample_size1 = 10\n",
    "sample_size2 = 15\n",
    "alpha = 0.10\n",
    "\n",
    "# Perform F-test\n",
    "f_statistic, critical_f, result = f_test(sample_variance1, sample_variance2, sample_size1, sample_size2, alpha)\n",
    "\n",
    "# Display results\n",
    "print(f\"F-Statistic: {f_statistic:.4f}\")\n",
    "print(f\"Critical F-Value: {critical_f:.4f}\")\n",
    "print(f\"Result: {result}\")\n"
   ]
  },
  {
   "cell_type": "markdown",
   "id": "03ca2e9b-74ea-4ba8-b43d-7e765d9ab26c",
   "metadata": {},
   "source": [
    "# Ans8-"
   ]
  },
  {
   "cell_type": "code",
   "execution_count": 8,
   "id": "51169365-1cd9-4256-9cfa-5f67047d5f54",
   "metadata": {},
   "outputs": [
    {
     "name": "stdout",
     "output_type": "stream",
     "text": [
      "F-Statistic: 1.4552\n",
      "Critical F-Value: 6.9777\n",
      "Result: Fail to reject H0\n"
     ]
    }
   ],
   "source": [
    "import numpy as np\n",
    "from scipy.stats import f\n",
    "\n",
    "def f_test(data1, data2, alpha):\n",
    "    # Calculate sample variances\n",
    "    variance1 = np.var(data1, ddof=1)\n",
    "    variance2 = np.var(data2, ddof=1)\n",
    "\n",
    "    # Calculate the F-statistic\n",
    "    f_statistic = variance1 / variance2\n",
    "\n",
    "    # Degrees of freedom\n",
    "    df_num = len(data1) - 1\n",
    "    df_den = len(data2) - 1\n",
    "\n",
    "    # Calculate the critical F-value for a two-tailed test\n",
    "    critical_f = f.ppf(1 - alpha / 2, df_num, df_den)\n",
    "\n",
    "    # Compare with critical F-value\n",
    "    if f_statistic > critical_f or f_statistic < 1 / critical_f:\n",
    "        # Reject the null hypothesis\n",
    "        result = \"Reject H0\"\n",
    "    else:\n",
    "        # Fail to reject the null hypothesis\n",
    "        result = \"Fail to reject H0\"\n",
    "\n",
    "    return f_statistic, critical_f, result\n",
    "\n",
    "# Given data\n",
    "data_a = [24, 25, 28, 23, 22, 20, 27]\n",
    "data_b = [31, 33, 35, 30, 32, 36]\n",
    "alpha = 0.05\n",
    "\n",
    "# Perform F-test\n",
    "f_statistic, critical_f, result = f_test(data_a, data_b, alpha)\n",
    "\n",
    "# Display results\n",
    "print(f\"F-Statistic: {f_statistic:.4f}\")\n",
    "print(f\"Critical F-Value: {critical_f:.4f}\")\n",
    "print(f\"Result: {result}\")\n"
   ]
  },
  {
   "cell_type": "markdown",
   "id": "ccdbf51d-d298-45e2-a416-c32667330ffb",
   "metadata": {},
   "source": [
    "# Ans9-"
   ]
  },
  {
   "cell_type": "code",
   "execution_count": 9,
   "id": "224f9dad-e992-4b40-bacc-8f679137233a",
   "metadata": {},
   "outputs": [
    {
     "name": "stdout",
     "output_type": "stream",
     "text": [
      "F-Statistic: 1.9443\n",
      "Critical F-Value: 14.9396\n",
      "Result: Fail to reject H0\n"
     ]
    }
   ],
   "source": [
    "import numpy as np\n",
    "from scipy.stats import f\n",
    "\n",
    "def f_test(data1, data2, alpha):\n",
    "    # Calculate sample variances\n",
    "    variance1 = np.var(data1, ddof=1)\n",
    "    variance2 = np.var(data2, ddof=1)\n",
    "\n",
    "    # Calculate the F-statistic\n",
    "    f_statistic = variance1 / variance2\n",
    "\n",
    "    # Degrees of freedom\n",
    "    df_num = len(data1) - 1\n",
    "    df_den = len(data2) - 1\n",
    "\n",
    "    # Calculate the critical F-value for a two-tailed test\n",
    "    critical_f = f.ppf(1 - alpha / 2, df_num, df_den)\n",
    "\n",
    "    # Compare with critical F-value\n",
    "    if f_statistic > critical_f or f_statistic < 1 / critical_f:\n",
    "        # Reject the null hypothesis\n",
    "        result = \"Reject H0\"\n",
    "    else:\n",
    "        # Fail to reject the null hypothesis\n",
    "        result = \"Fail to reject H0\"\n",
    "\n",
    "    return f_statistic, critical_f, result\n",
    "\n",
    "# Given data\n",
    "group_a = [80, 85, 90, 92, 87, 83]\n",
    "group_b = [75, 78, 82, 79, 81, 84]\n",
    "alpha = 0.01\n",
    "\n",
    "# Perform F-test\n",
    "f_statistic, critical_f, result = f_test(group_a, group_b, alpha)\n",
    "\n",
    "# Display results\n",
    "print(f\"F-Statistic: {f_statistic:.4f}\")\n",
    "print(f\"Critical F-Value: {critical_f:.4f}\")\n",
    "print(f\"Result: {result}\")\n"
   ]
  },
  {
   "cell_type": "code",
   "execution_count": null,
   "id": "9a6e4c4d-4b7f-4335-adb7-2e1fafd7c8ab",
   "metadata": {},
   "outputs": [],
   "source": []
  }
 ],
 "metadata": {
  "kernelspec": {
   "display_name": "Python 3 (ipykernel)",
   "language": "python",
   "name": "python3"
  },
  "language_info": {
   "codemirror_mode": {
    "name": "ipython",
    "version": 3
   },
   "file_extension": ".py",
   "mimetype": "text/x-python",
   "name": "python",
   "nbconvert_exporter": "python",
   "pygments_lexer": "ipython3",
   "version": "3.10.8"
  }
 },
 "nbformat": 4,
 "nbformat_minor": 5
}
